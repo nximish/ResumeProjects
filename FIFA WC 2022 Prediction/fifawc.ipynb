{
 "cells": [
  {
   "cell_type": "markdown",
   "id": "08dfe1a5-2993-4f2a-bce4-27aecd29a843",
   "metadata": {},
   "source": [
    "## Importing Data from Wikipedia"
   ]
  },
  {
   "cell_type": "code",
   "execution_count": 143,
   "id": "af807859-1f44-4d63-8c6b-875cc91fb423",
   "metadata": {},
   "outputs": [],
   "source": [
    "import pandas as pd\n",
    "from string import ascii_uppercase as alphabet\n",
    "import pickle"
   ]
  },
  {
   "cell_type": "code",
   "execution_count": 145,
   "id": "416fdffb-7a59-4020-9a7e-8bccf6662f51",
   "metadata": {},
   "outputs": [],
   "source": [
    "all_tables = pd.read_html('https://en.wikipedia.org/wiki/2022_FIFA_World_Cup')"
   ]
  },
  {
   "cell_type": "code",
   "execution_count": 164,
   "id": "d0327e9a-7d87-443a-ac9f-838acb9beae5",
   "metadata": {},
   "outputs": [],
   "source": [
    "# print(all_tables[18])\n",
    "# for i, table in enumerate(all_tables):\n",
    "#     print(f\"Table {i}\")\n",
    "#     print(table.head())\n",
    "\n",
    "# print(all_tables[16])\n",
    "# all_tables[58]['Pld']\n",
    "\n",
    "dict_table={}\n",
    "\n",
    "for letter,i in zip(alphabet,range(18,68,7)):\n",
    "    df = all_tables[i]\n",
    "    # df.rename(columns={df.columns[1]:'Team'}, inplace=True)\n",
    "    # df.pop('Qualification')\n",
    "    dict_table[f'Group {letter}'] = df\n",
    "\n",
    "for i in range(18,68,7):\n",
    "    all_tables[i]['Pld']=0\n",
    "    all_tables[i]['W']=0\n",
    "    all_tables[i]['D']=0\n",
    "    all_tables[i]['L']=0\n",
    "    all_tables[i]['GF']=0\n",
    "    all_tables[i]['Pts']=0\n",
    "    all_tables[i]['GA']=0\n",
    "    all_tables[i]['GD']=0\n",
    "    all_tables[i].sort_values(by='Team', inplace=True)\n",
    "    all_tables[i].reset_index(drop=True, inplace=True)\n",
    "    all_tables[i]['Pos'] = all_tables[i].index + 1\n",
    "# all_tables[9]"
   ]
  },
  {
   "cell_type": "code",
   "execution_count": 165,
   "id": "6c2cdae1-d6e8-461e-aa06-320883265aeb",
   "metadata": {},
   "outputs": [
    {
     "data": {
      "text/html": [
       "<div>\n",
       "<style scoped>\n",
       "    .dataframe tbody tr th:only-of-type {\n",
       "        vertical-align: middle;\n",
       "    }\n",
       "\n",
       "    .dataframe tbody tr th {\n",
       "        vertical-align: top;\n",
       "    }\n",
       "\n",
       "    .dataframe thead th {\n",
       "        text-align: right;\n",
       "    }\n",
       "</style>\n",
       "<table border=\"1\" class=\"dataframe\">\n",
       "  <thead>\n",
       "    <tr style=\"text-align: right;\">\n",
       "      <th></th>\n",
       "      <th>Pos</th>\n",
       "      <th>Team</th>\n",
       "      <th>Pld</th>\n",
       "      <th>W</th>\n",
       "      <th>D</th>\n",
       "      <th>L</th>\n",
       "      <th>GF</th>\n",
       "      <th>GA</th>\n",
       "      <th>GD</th>\n",
       "      <th>Pts</th>\n",
       "    </tr>\n",
       "  </thead>\n",
       "  <tbody>\n",
       "    <tr>\n",
       "      <th>0</th>\n",
       "      <td>1</td>\n",
       "      <td>Ecuador</td>\n",
       "      <td>0</td>\n",
       "      <td>0</td>\n",
       "      <td>0</td>\n",
       "      <td>0</td>\n",
       "      <td>0</td>\n",
       "      <td>0</td>\n",
       "      <td>0</td>\n",
       "      <td>0</td>\n",
       "    </tr>\n",
       "    <tr>\n",
       "      <th>1</th>\n",
       "      <td>2</td>\n",
       "      <td>Netherlands</td>\n",
       "      <td>0</td>\n",
       "      <td>0</td>\n",
       "      <td>0</td>\n",
       "      <td>0</td>\n",
       "      <td>0</td>\n",
       "      <td>0</td>\n",
       "      <td>0</td>\n",
       "      <td>0</td>\n",
       "    </tr>\n",
       "    <tr>\n",
       "      <th>2</th>\n",
       "      <td>3</td>\n",
       "      <td>Qatar (H)</td>\n",
       "      <td>0</td>\n",
       "      <td>0</td>\n",
       "      <td>0</td>\n",
       "      <td>0</td>\n",
       "      <td>0</td>\n",
       "      <td>0</td>\n",
       "      <td>0</td>\n",
       "      <td>0</td>\n",
       "    </tr>\n",
       "    <tr>\n",
       "      <th>3</th>\n",
       "      <td>4</td>\n",
       "      <td>Senegal</td>\n",
       "      <td>0</td>\n",
       "      <td>0</td>\n",
       "      <td>0</td>\n",
       "      <td>0</td>\n",
       "      <td>0</td>\n",
       "      <td>0</td>\n",
       "      <td>0</td>\n",
       "      <td>0</td>\n",
       "    </tr>\n",
       "  </tbody>\n",
       "</table>\n",
       "</div>"
      ],
      "text/plain": [
       "   Pos         Team  Pld  W  D  L  GF  GA  GD  Pts\n",
       "0    1      Ecuador    0  0  0  0   0   0   0    0\n",
       "1    2  Netherlands    0  0  0  0   0   0   0    0\n",
       "2    3    Qatar (H)    0  0  0  0   0   0   0    0\n",
       "3    4      Senegal    0  0  0  0   0   0   0    0"
      ]
     },
     "execution_count": 165,
     "metadata": {},
     "output_type": "execute_result"
    }
   ],
   "source": [
    "dict_table['Group A']"
   ]
  },
  {
   "cell_type": "code",
   "execution_count": 166,
   "id": "dd2bfad9-55cc-4311-9f36-c290331bfdd9",
   "metadata": {},
   "outputs": [],
   "source": [
    "with open('dict_table', 'wb') as output:\n",
    "    pickle.dump(dict_table,output)"
   ]
  },
  {
   "cell_type": "code",
   "execution_count": 167,
   "id": "8b3494ac-8265-4453-be91-c0b87a92f988",
   "metadata": {},
   "outputs": [],
   "source": [
    "from bs4 import BeautifulSoup\n",
    "import requests"
   ]
  },
  {
   "cell_type": "code",
   "execution_count": 168,
   "id": "78e1d84f-8aa4-4a27-af84-003cbe684e3c",
   "metadata": {},
   "outputs": [],
   "source": [
    "# Create a function to get all the matches from a particular World Cup\n",
    "\n",
    "def get_matches(year,link):\n",
    "    response = requests.get(link)\n",
    "    content = response.text\n",
    "    soup = BeautifulSoup(content, 'lxml')\n",
    "    matches = soup.find_all('div',class_='footballbox')\n",
    "    home = []\n",
    "    away = []\n",
    "    score = []\n",
    "    \n",
    "    for match in matches:\n",
    "        home.append(match.find('th',class_='fhome').get_text())\n",
    "        score.append(match.find('th',class_='fscore').get_text())\n",
    "        away.append(match.find('th',class_='faway').get_text())\n",
    "    \n",
    "    football = {'home':home,'away':away,'score':score}\n",
    "    df_football = pd.DataFrame(football)\n",
    "    df_football['year'] = year\n",
    "\n",
    "    return df_football\n",
    "    \n",
    "    "
   ]
  },
  {
   "cell_type": "code",
   "execution_count": 169,
   "id": "f5426220-c8eb-4215-a35e-b65e04988522",
   "metadata": {},
   "outputs": [],
   "source": [
    "# Getting all the matches data from all the world cups\n",
    "years = [1930,1934,1938,1950,1954,1958,1962,1966,1970,1974,1978,1982,1986,1990,1994,1998,2002,2006,2010,2014,2018]\n",
    "fifa = [get_matches(year,link = f'https://en.wikipedia.org/wiki/{year}_FIFA_World_Cup') for year in years]"
   ]
  },
  {
   "cell_type": "code",
   "execution_count": 170,
   "id": "e82a1b54-b343-4396-b4d8-b3b9e4130a3d",
   "metadata": {},
   "outputs": [],
   "source": [
    "# Getting Historical Data for all the past World Cups\n",
    "\n",
    "df_fifa = pd.concat(fifa, ignore_index=True)\n",
    "#had one match with result as walkover, so removed it...\n",
    "df_fifa.drop(37, inplace=True)\n",
    "df_fifa.to_csv('FIFA_World_Cups_Historical_Data.csv',index=False)"
   ]
  },
  {
   "cell_type": "code",
   "execution_count": 171,
   "id": "0027b880-030d-4d68-83e3-687d154019be",
   "metadata": {},
   "outputs": [],
   "source": [
    "# Getting the fixtures of 2022 World Cup\n",
    "\n",
    "link_to_fixtures = 'https://web.archive.org/web/20221115040351/https://en.wikipedia.org/wiki/2022_FIFA_World_Cup'\n",
    "df_fixtures = get_matches('2022',link = link_to_fixtures)\n",
    "df_fixtures.to_csv('FIFA_2022_Fixtures.csv',index=False)"
   ]
  },
  {
   "cell_type": "code",
   "execution_count": 172,
   "id": "dd42027b-f45b-4d68-9806-dc2af9f94e32",
   "metadata": {},
   "outputs": [],
   "source": [
    "# DATA CLEANING\n",
    "\n",
    "df_historical_data = pd.read_csv('FIFA_World_Cups_Historical_Data.csv')\n",
    "df_fixtures_2022 = pd.read_csv('FIFA_2022_Fixtures.csv')\n",
    "\n",
    "\n",
    "# there are blanks and spaces ahead and after the words in names of countries which need to be removed\n",
    "df_fixtures_2022['home'] = df_fixtures_2022['home'].str.strip()\n",
    "df_fixtures_2022['away'] = df_fixtures_2022['away'].str.strip()\n",
    "df_fixtures_2022['away'] = df_fixtures_2022['away'].str.replace('\\u2013', '-')\n",
    "df_historical_data['home'] = df_historical_data['home'].str.strip()\n",
    "df_historical_data['away'] = df_historical_data['away'].str.strip()\n",
    "\n",
    "\n",
    "# finding the rows with score other than digits and hyphen\n",
    "    # Replace en-dash (8211) with a regular hyphen (-)\n",
    "df_historical_data['score'] = df_historical_data['score'].str.replace('\\u2013', '-')\n",
    "df_historical_data['score'] = df_historical_data['score'].str.strip()\n",
    "df_historical_data['score'] = df_historical_data['score'].str.replace(\" \", \"\")\n",
    "df_historical_data[df_historical_data['score'].str.contains('[^\\d-]')]\n",
    "\n",
    "\n",
    "# Replacing the \"After Extra Time\" abbreviation from the scores\n",
    "df_historical_data['score'] = df_historical_data['score'].str.replace('[^\\d-]','',regex=True)\n",
    "\n",
    "\n",
    "# Replacing the traditional Home-Away method with 2 separate columns to store home and away goals \n",
    "df_historical_data[['home_goals','away_goals']] = df_historical_data['score'].str.split('-',expand=True)\n",
    "df_historical_data = df_historical_data.drop('score',axis=1)\n",
    "\n",
    "\n",
    "# Renaming Columns and Changing Data Types\n",
    "df_historical_data.rename(columns = {'home':'HomeTeam','away':'AwayTeam','year':'Year','home_goals':'HomeGoals','away_goals':'AwayGoals'},inplace=True)\n",
    "df_historical_data = df_historical_data.astype({'HomeGoals':int,'AwayGoals':int,'Year':int})\n",
    "df_historical_data['TotalGoals'] = df_historical_data['HomeGoals'] + df_historical_data['AwayGoals']"
   ]
  },
  {
   "cell_type": "code",
   "execution_count": 173,
   "id": "29d34231-0914-46b0-981b-129a875d3748",
   "metadata": {},
   "outputs": [],
   "source": [
    "df_historical_data.to_csv('FIFA_World_Cups_Historical_Data_Cleaned.csv')\n",
    "df_fixtures_2022.to_csv('FIFA_2022_Fixtures_Cleaned.csv')"
   ]
  },
  {
   "cell_type": "markdown",
   "id": "d2a6c7ae-dbf7-47d8-93e9-4d0fbf32e2af",
   "metadata": {},
   "source": [
    "## Building a Model"
   ]
  },
  {
   "cell_type": "code",
   "execution_count": 174,
   "id": "58d04776-b22f-450b-8a10-90e02c0935c9",
   "metadata": {},
   "outputs": [],
   "source": [
    "import pandas as pd\n",
    "import pickle\n",
    "from scipy.stats import poisson"
   ]
  },
  {
   "cell_type": "code",
   "execution_count": 175,
   "id": "8c545d70-5be1-4550-bbba-5be47814e093",
   "metadata": {},
   "outputs": [],
   "source": [
    "dict_table = pickle.load(open('dict_table','rb'))\n",
    "df_historical_data = pd.read_csv('FIFA_World_Cups_Historical_Data_Cleaned.csv')\n",
    "df_fixtures_2022 = pd.read_csv('FIFA_2022_Fixtures_Cleaned.csv')"
   ]
  },
  {
   "cell_type": "code",
   "execution_count": 176,
   "id": "f3d1f725-8c82-42a5-ac25-78c2d12a5e83",
   "metadata": {},
   "outputs": [],
   "source": [
    "# Splitting the dataframe to Home and Away Dataframes\n",
    "df_home = df_historical_data[['HomeTeam','HomeGoals','AwayGoals']]\n",
    "df_away = df_historical_data[['AwayTeam','HomeGoals','AwayGoals']]"
   ]
  },
  {
   "cell_type": "code",
   "execution_count": 177,
   "id": "75354353-67a0-442a-a4ba-58a9bc436cc9",
   "metadata": {},
   "outputs": [],
   "source": [
    "# Renaming the columns to get a dataframe with team name, goals for and goals against\n",
    "df_home = df_home.rename(columns = {'HomeTeam':'Team','HomeGoals':'GoalsFor' ,'AwayGoals':'GoalsAgainst'})\n",
    "df_away = df_away.rename(columns = {'AwayTeam':'Team','HomeGoals':'GoalsAgainst' ,'AwayGoals':'GoalsFor'})"
   ]
  },
  {
   "cell_type": "code",
   "execution_count": 178,
   "id": "cc99e55c-6854-4042-ba32-f1152ca9ec19",
   "metadata": {},
   "outputs": [],
   "source": [
    "# Concatenating Home and Away dataframes, grouping by team and calculating mean to get TEAM STRENGTH\n",
    "df_team_strength = pd.concat([df_home,df_away],ignore_index=True).groupby('Team').mean()"
   ]
  },
  {
   "cell_type": "markdown",
   "id": "29f0703b-c3f4-4e3c-8735-f274fa8e2a95",
   "metadata": {},
   "source": [
    "### Creating a function to predict points of a team  \n",
    "***Why Poisson Distribution?***  \n",
    "_Conditions for Poisson distribution:_  \n",
    "_1) The number of events can be counted_  \n",
    "_2) The occurence of events are independent_  \n",
    "_3) The rate at which the events occur is constant_  \n",
    "_4) 2 events can't occur at exactly the same instant of time_  \n",
    "\n",
    "***So, if a Goal is considered an event, it fits our situation perfectly.***"
   ]
  },
  {
   "cell_type": "code",
   "execution_count": 179,
   "id": "e8b6f32e-7f7b-4387-bb1a-0b80676d7fbb",
   "metadata": {},
   "outputs": [],
   "source": [
    "# predict_points function: takes the names of home and away teams as input and gives their points as output\n",
    "def predict_points(home,away):\n",
    "    if (home in df_team_strength.index) and (away in df_team_strength.index):\n",
    "        #lambda = (goals scored by home team)*(goals conceded by away team)\n",
    "        lambda_home = (df_team_strength.at[home,'GoalsFor'])*(df_team_strength.at[away,'GoalsAgainst'])\n",
    "        lambda_away = (df_team_strength.at[away,'GoalsFor'])*(df_team_strength.at[home,'GoalsAgainst'])\n",
    "        prob_home,prob_away,prob_draw = 0,0,0\n",
    "        for i in range(0,11): #number of goals scored by home team\n",
    "            for j in range(0,11): #number of goals scored by away team\n",
    "                p = (poisson.pmf(i,lambda_home))*(poisson.pmf(j,lambda_away))\n",
    "                if i==j:\n",
    "                    prob_draw+=p\n",
    "                elif i<j:\n",
    "                    prob_away+=p\n",
    "                else:\n",
    "                    prob_home+=p\n",
    "        points_home = 3*prob_home + prob_draw\n",
    "        points_away = 3*prob_away + prob_draw\n",
    "        return (points_home,points_away)\n",
    "    else:\n",
    "        return (0,0)"
   ]
  },
  {
   "cell_type": "code",
   "execution_count": 180,
   "id": "37aae8f9-f3c4-4c52-84f0-adfa6e00f7e5",
   "metadata": {},
   "outputs": [
    {
     "data": {
      "text/plain": [
       "(1.1210688997944207, 1.6827940577620726)"
      ]
     },
     "execution_count": 180,
     "metadata": {},
     "output_type": "execute_result"
    }
   ],
   "source": [
    "# testing the function\n",
    "predict_points('France','Germany')"
   ]
  },
  {
   "cell_type": "markdown",
   "id": "bbe60df9-2558-4e01-8f13-3be40bb4bbb8",
   "metadata": {},
   "source": [
    "## Predicting World Cup"
   ]
  },
  {
   "cell_type": "markdown",
   "id": "6b5f1f75-3172-45d9-8396-e199e7331129",
   "metadata": {},
   "source": [
    "### Group Stage"
   ]
  },
  {
   "cell_type": "code",
   "execution_count": 181,
   "id": "6d0c9032-60b9-45b3-a27b-bb9b88367b5a",
   "metadata": {},
   "outputs": [],
   "source": [
    "# Splitting the fixtures into group stage and subsequent knockout stages\n",
    "df_fixture_group = df_fixtures_2022[:48].copy()\n",
    "df_fixture_ro16 = df_fixtures_2022[48:56].copy()\n",
    "df_fixture_quarters = df_fixtures_2022[56:60].copy()\n",
    "df_fixture_semis = df_fixtures_2022[60:62].copy()\n",
    "df_fixture_third_place = df_fixtures_2022[62:63].copy()\n",
    "df_fixture_final = df_fixtures_2022[63:].copy()"
   ]
  },
  {
   "cell_type": "code",
   "execution_count": 182,
   "id": "e0557181-f2f2-455f-97e7-e90e57f2e781",
   "metadata": {},
   "outputs": [
    {
     "name": "stderr",
     "output_type": "stream",
     "text": [
      "C:\\Users\\Naimish\\AppData\\Local\\Temp\\ipykernel_1880\\3925187797.py:8: FutureWarning: Setting an item of incompatible dtype is deprecated and will raise an error in a future version of pandas. Value '[0.87343108]' has dtype incompatible with int64, please explicitly cast to a compatible dtype first.\n",
      "  dict_table[group].loc[dict_table[group]['Team'] == home, 'Pts'] += points_home\n",
      "C:\\Users\\Naimish\\AppData\\Local\\Temp\\ipykernel_1880\\3925187797.py:8: FutureWarning: Setting an item of incompatible dtype is deprecated and will raise an error in a future version of pandas. Value '[2.39716107]' has dtype incompatible with int64, please explicitly cast to a compatible dtype first.\n",
      "  dict_table[group].loc[dict_table[group]['Team'] == home, 'Pts'] += points_home\n",
      "C:\\Users\\Naimish\\AppData\\Local\\Temp\\ipykernel_1880\\3925187797.py:8: FutureWarning: Setting an item of incompatible dtype is deprecated and will raise an error in a future version of pandas. Value '[2.78567341]' has dtype incompatible with int64, please explicitly cast to a compatible dtype first.\n",
      "  dict_table[group].loc[dict_table[group]['Team'] == home, 'Pts'] += points_home\n",
      "C:\\Users\\Naimish\\AppData\\Local\\Temp\\ipykernel_1880\\3925187797.py:8: FutureWarning: Setting an item of incompatible dtype is deprecated and will raise an error in a future version of pandas. Value '[2.1926621]' has dtype incompatible with int64, please explicitly cast to a compatible dtype first.\n",
      "  dict_table[group].loc[dict_table[group]['Team'] == home, 'Pts'] += points_home\n",
      "C:\\Users\\Naimish\\AppData\\Local\\Temp\\ipykernel_1880\\3925187797.py:8: FutureWarning: Setting an item of incompatible dtype is deprecated and will raise an error in a future version of pandas. Value '[2.39879893]' has dtype incompatible with int64, please explicitly cast to a compatible dtype first.\n",
      "  dict_table[group].loc[dict_table[group]['Team'] == home, 'Pts'] += points_home\n",
      "C:\\Users\\Naimish\\AppData\\Local\\Temp\\ipykernel_1880\\3925187797.py:8: FutureWarning: Setting an item of incompatible dtype is deprecated and will raise an error in a future version of pandas. Value '[0.71189919]' has dtype incompatible with int64, please explicitly cast to a compatible dtype first.\n",
      "  dict_table[group].loc[dict_table[group]['Team'] == home, 'Pts'] += points_home\n",
      "C:\\Users\\Naimish\\AppData\\Local\\Temp\\ipykernel_1880\\3925187797.py:8: FutureWarning: Setting an item of incompatible dtype is deprecated and will raise an error in a future version of pandas. Value '[2.12064356]' has dtype incompatible with int64, please explicitly cast to a compatible dtype first.\n",
      "  dict_table[group].loc[dict_table[group]['Team'] == home, 'Pts'] += points_home\n",
      "C:\\Users\\Naimish\\AppData\\Local\\Temp\\ipykernel_1880\\3925187797.py:8: FutureWarning: Setting an item of incompatible dtype is deprecated and will raise an error in a future version of pandas. Value '[2.34507515]' has dtype incompatible with int64, please explicitly cast to a compatible dtype first.\n",
      "  dict_table[group].loc[dict_table[group]['Team'] == home, 'Pts'] += points_home\n"
     ]
    }
   ],
   "source": [
    "# Run all the fixtures of group stage and updating the group table\n",
    "for group in dict_table:\n",
    "    teams = dict_table[group]['Team'].values\n",
    "    df_fixture_group_6 = df_fixture_group[df_fixture_group['home'].isin(teams)]\n",
    "    for index,row in df_fixture_group_6.iterrows():\n",
    "        home,away = row['home'],row['away']\n",
    "        points_home, points_away = predict_points(home,away)\n",
    "        dict_table[group].loc[dict_table[group]['Team'] == home, 'Pts'] += points_home\n",
    "        dict_table[group].loc[dict_table[group]['Team'] == away, 'Pts'] += points_away\n",
    "\n",
    "    dict_table[group] = dict_table[group].sort_values('Pts',ascending=False).reset_index()\n",
    "    dict_table[group] = dict_table[group][['Team','Pts']]\n",
    "    dict_table[group] = dict_table[group].round(0)"
   ]
  },
  {
   "cell_type": "code",
   "execution_count": 127,
   "id": "7ffd7b8b-c46b-4b1a-94c7-7357de38ddec",
   "metadata": {},
   "outputs": [],
   "source": [
    "# Show Updated Table\n",
    "# dict_table"
   ]
  },
  {
   "cell_type": "markdown",
   "id": "3bd3acbc-be21-4edd-9225-379ac792adea",
   "metadata": {},
   "source": [
    "### Knock-outs: Round of 16"
   ]
  },
  {
   "cell_type": "code",
   "execution_count": 183,
   "id": "4b54250c-228a-4f55-b4a8-80c237263955",
   "metadata": {},
   "outputs": [],
   "source": [
    "# Updating the ro16 table with the winners and runner-ups of each group\n",
    "for group in dict_table:\n",
    "    group_winner = dict_table[group].loc[0,'Team']\n",
    "    group_runners_up = dict_table[group].loc[1,'Team']\n",
    "    df_fixture_ro16.replace({f'Winners {group}': group_winner, f'Runners-up {group}': group_runners_up},inplace=True)\n",
    "df_fixture_ro16['winner']='?'"
   ]
  },
  {
   "cell_type": "code",
   "execution_count": 184,
   "id": "8e6c4831-3b84-40e1-a5fc-5cffdc34b013",
   "metadata": {},
   "outputs": [
    {
     "data": {
      "text/html": [
       "<div>\n",
       "<style scoped>\n",
       "    .dataframe tbody tr th:only-of-type {\n",
       "        vertical-align: middle;\n",
       "    }\n",
       "\n",
       "    .dataframe tbody tr th {\n",
       "        vertical-align: top;\n",
       "    }\n",
       "\n",
       "    .dataframe thead th {\n",
       "        text-align: right;\n",
       "    }\n",
       "</style>\n",
       "<table border=\"1\" class=\"dataframe\">\n",
       "  <thead>\n",
       "    <tr style=\"text-align: right;\">\n",
       "      <th></th>\n",
       "      <th>Unnamed: 0</th>\n",
       "      <th>home</th>\n",
       "      <th>away</th>\n",
       "      <th>score</th>\n",
       "      <th>year</th>\n",
       "      <th>winner</th>\n",
       "    </tr>\n",
       "  </thead>\n",
       "  <tbody>\n",
       "    <tr>\n",
       "      <th>48</th>\n",
       "      <td>48</td>\n",
       "      <td>Netherlands</td>\n",
       "      <td>Wales</td>\n",
       "      <td>Match 49</td>\n",
       "      <td>2022</td>\n",
       "      <td>?</td>\n",
       "    </tr>\n",
       "    <tr>\n",
       "      <th>49</th>\n",
       "      <td>49</td>\n",
       "      <td>Argentina</td>\n",
       "      <td>Denmark</td>\n",
       "      <td>Match 50</td>\n",
       "      <td>2022</td>\n",
       "      <td>?</td>\n",
       "    </tr>\n",
       "    <tr>\n",
       "      <th>50</th>\n",
       "      <td>50</td>\n",
       "      <td>France</td>\n",
       "      <td>Poland</td>\n",
       "      <td>Match 52</td>\n",
       "      <td>2022</td>\n",
       "      <td>?</td>\n",
       "    </tr>\n",
       "    <tr>\n",
       "      <th>51</th>\n",
       "      <td>51</td>\n",
       "      <td>England</td>\n",
       "      <td>Senegal</td>\n",
       "      <td>Match 51</td>\n",
       "      <td>2022</td>\n",
       "      <td>?</td>\n",
       "    </tr>\n",
       "    <tr>\n",
       "      <th>52</th>\n",
       "      <td>52</td>\n",
       "      <td>Germany</td>\n",
       "      <td>Belgium</td>\n",
       "      <td>Match 53</td>\n",
       "      <td>2022</td>\n",
       "      <td>?</td>\n",
       "    </tr>\n",
       "    <tr>\n",
       "      <th>53</th>\n",
       "      <td>53</td>\n",
       "      <td>Brazil</td>\n",
       "      <td>Uruguay</td>\n",
       "      <td>Match 54</td>\n",
       "      <td>2022</td>\n",
       "      <td>?</td>\n",
       "    </tr>\n",
       "    <tr>\n",
       "      <th>54</th>\n",
       "      <td>54</td>\n",
       "      <td>Croatia</td>\n",
       "      <td>Spain</td>\n",
       "      <td>Match 55</td>\n",
       "      <td>2022</td>\n",
       "      <td>?</td>\n",
       "    </tr>\n",
       "    <tr>\n",
       "      <th>55</th>\n",
       "      <td>55</td>\n",
       "      <td>Portugal</td>\n",
       "      <td>Switzerland</td>\n",
       "      <td>Match 56</td>\n",
       "      <td>2022</td>\n",
       "      <td>?</td>\n",
       "    </tr>\n",
       "  </tbody>\n",
       "</table>\n",
       "</div>"
      ],
      "text/plain": [
       "    Unnamed: 0         home         away     score  year winner\n",
       "48          48  Netherlands        Wales  Match 49  2022      ?\n",
       "49          49    Argentina      Denmark  Match 50  2022      ?\n",
       "50          50       France       Poland  Match 52  2022      ?\n",
       "51          51      England      Senegal  Match 51  2022      ?\n",
       "52          52      Germany      Belgium  Match 53  2022      ?\n",
       "53          53       Brazil      Uruguay  Match 54  2022      ?\n",
       "54          54      Croatia        Spain  Match 55  2022      ?\n",
       "55          55     Portugal  Switzerland  Match 56  2022      ?"
      ]
     },
     "execution_count": 184,
     "metadata": {},
     "output_type": "execute_result"
    }
   ],
   "source": [
    "df_fixture_ro16"
   ]
  },
  {
   "cell_type": "code",
   "execution_count": 185,
   "id": "47403b6e-cc23-4eaf-864f-f1248b78ea20",
   "metadata": {},
   "outputs": [],
   "source": [
    "# Creating a get_winner function\n",
    "def get_winner(df_fixture_updated):\n",
    "    for index,row in df_fixture_updated.iterrows():\n",
    "        home,away = row['home'],row['away']\n",
    "        points_home,points_away = predict_points(home,away)\n",
    "        if points_home > points_away:\n",
    "            winner = home\n",
    "        else:\n",
    "            winner = away\n",
    "        df_fixture_updated.loc[index, 'winner'] = winner\n",
    "    return df_fixture_updated"
   ]
  },
  {
   "cell_type": "code",
   "execution_count": 186,
   "id": "31346cc9-8e71-412a-bdf2-a8976766f313",
   "metadata": {},
   "outputs": [
    {
     "data": {
      "text/html": [
       "<div>\n",
       "<style scoped>\n",
       "    .dataframe tbody tr th:only-of-type {\n",
       "        vertical-align: middle;\n",
       "    }\n",
       "\n",
       "    .dataframe tbody tr th {\n",
       "        vertical-align: top;\n",
       "    }\n",
       "\n",
       "    .dataframe thead th {\n",
       "        text-align: right;\n",
       "    }\n",
       "</style>\n",
       "<table border=\"1\" class=\"dataframe\">\n",
       "  <thead>\n",
       "    <tr style=\"text-align: right;\">\n",
       "      <th></th>\n",
       "      <th>Unnamed: 0</th>\n",
       "      <th>home</th>\n",
       "      <th>away</th>\n",
       "      <th>score</th>\n",
       "      <th>year</th>\n",
       "      <th>winner</th>\n",
       "    </tr>\n",
       "  </thead>\n",
       "  <tbody>\n",
       "    <tr>\n",
       "      <th>48</th>\n",
       "      <td>48</td>\n",
       "      <td>Netherlands</td>\n",
       "      <td>Wales</td>\n",
       "      <td>Match 49</td>\n",
       "      <td>2022</td>\n",
       "      <td>Netherlands</td>\n",
       "    </tr>\n",
       "    <tr>\n",
       "      <th>49</th>\n",
       "      <td>49</td>\n",
       "      <td>Argentina</td>\n",
       "      <td>Denmark</td>\n",
       "      <td>Match 50</td>\n",
       "      <td>2022</td>\n",
       "      <td>Argentina</td>\n",
       "    </tr>\n",
       "    <tr>\n",
       "      <th>50</th>\n",
       "      <td>50</td>\n",
       "      <td>France</td>\n",
       "      <td>Poland</td>\n",
       "      <td>Match 52</td>\n",
       "      <td>2022</td>\n",
       "      <td>France</td>\n",
       "    </tr>\n",
       "    <tr>\n",
       "      <th>51</th>\n",
       "      <td>51</td>\n",
       "      <td>England</td>\n",
       "      <td>Senegal</td>\n",
       "      <td>Match 51</td>\n",
       "      <td>2022</td>\n",
       "      <td>England</td>\n",
       "    </tr>\n",
       "    <tr>\n",
       "      <th>52</th>\n",
       "      <td>52</td>\n",
       "      <td>Germany</td>\n",
       "      <td>Belgium</td>\n",
       "      <td>Match 53</td>\n",
       "      <td>2022</td>\n",
       "      <td>Germany</td>\n",
       "    </tr>\n",
       "    <tr>\n",
       "      <th>53</th>\n",
       "      <td>53</td>\n",
       "      <td>Brazil</td>\n",
       "      <td>Uruguay</td>\n",
       "      <td>Match 54</td>\n",
       "      <td>2022</td>\n",
       "      <td>Brazil</td>\n",
       "    </tr>\n",
       "    <tr>\n",
       "      <th>54</th>\n",
       "      <td>54</td>\n",
       "      <td>Croatia</td>\n",
       "      <td>Spain</td>\n",
       "      <td>Match 55</td>\n",
       "      <td>2022</td>\n",
       "      <td>Croatia</td>\n",
       "    </tr>\n",
       "    <tr>\n",
       "      <th>55</th>\n",
       "      <td>55</td>\n",
       "      <td>Portugal</td>\n",
       "      <td>Switzerland</td>\n",
       "      <td>Match 56</td>\n",
       "      <td>2022</td>\n",
       "      <td>Portugal</td>\n",
       "    </tr>\n",
       "  </tbody>\n",
       "</table>\n",
       "</div>"
      ],
      "text/plain": [
       "    Unnamed: 0         home         away     score  year       winner\n",
       "48          48  Netherlands        Wales  Match 49  2022  Netherlands\n",
       "49          49    Argentina      Denmark  Match 50  2022    Argentina\n",
       "50          50       France       Poland  Match 52  2022       France\n",
       "51          51      England      Senegal  Match 51  2022      England\n",
       "52          52      Germany      Belgium  Match 53  2022      Germany\n",
       "53          53       Brazil      Uruguay  Match 54  2022       Brazil\n",
       "54          54      Croatia        Spain  Match 55  2022      Croatia\n",
       "55          55     Portugal  Switzerland  Match 56  2022     Portugal"
      ]
     },
     "execution_count": 186,
     "metadata": {},
     "output_type": "execute_result"
    }
   ],
   "source": [
    "get_winner(df_fixture_ro16)"
   ]
  },
  {
   "cell_type": "markdown",
   "id": "175e2e7e-4942-4d0b-84f5-080f617a0613",
   "metadata": {},
   "source": [
    "## Knock-outs: Quarter Finals"
   ]
  },
  {
   "cell_type": "code",
   "execution_count": 187,
   "id": "13feef50-fdc5-4a83-b8c3-e164965ffc47",
   "metadata": {},
   "outputs": [],
   "source": [
    "# Creating an update_table function\n",
    "def update_table(prev_fixture,next_fixture):\n",
    "    for index, row in prev_fixture.iterrows():\n",
    "        winner = prev_fixture.loc[index,'winner']\n",
    "        match = prev_fixture.loc[index,'score']\n",
    "        next_fixture.replace({f'Winners {match}':winner},inplace=True)\n",
    "    next_fixture['winner']='?'\n",
    "    return next_fixture"
   ]
  },
  {
   "cell_type": "code",
   "execution_count": 188,
   "id": "3028c6c0-6809-4a86-8418-5cf18423062f",
   "metadata": {},
   "outputs": [
    {
     "data": {
      "text/html": [
       "<div>\n",
       "<style scoped>\n",
       "    .dataframe tbody tr th:only-of-type {\n",
       "        vertical-align: middle;\n",
       "    }\n",
       "\n",
       "    .dataframe tbody tr th {\n",
       "        vertical-align: top;\n",
       "    }\n",
       "\n",
       "    .dataframe thead th {\n",
       "        text-align: right;\n",
       "    }\n",
       "</style>\n",
       "<table border=\"1\" class=\"dataframe\">\n",
       "  <thead>\n",
       "    <tr style=\"text-align: right;\">\n",
       "      <th></th>\n",
       "      <th>Unnamed: 0</th>\n",
       "      <th>home</th>\n",
       "      <th>away</th>\n",
       "      <th>score</th>\n",
       "      <th>year</th>\n",
       "      <th>winner</th>\n",
       "    </tr>\n",
       "  </thead>\n",
       "  <tbody>\n",
       "    <tr>\n",
       "      <th>56</th>\n",
       "      <td>56</td>\n",
       "      <td>Germany</td>\n",
       "      <td>Brazil</td>\n",
       "      <td>Match 58</td>\n",
       "      <td>2022</td>\n",
       "      <td>?</td>\n",
       "    </tr>\n",
       "    <tr>\n",
       "      <th>57</th>\n",
       "      <td>57</td>\n",
       "      <td>Netherlands</td>\n",
       "      <td>Argentina</td>\n",
       "      <td>Match 57</td>\n",
       "      <td>2022</td>\n",
       "      <td>?</td>\n",
       "    </tr>\n",
       "    <tr>\n",
       "      <th>58</th>\n",
       "      <td>58</td>\n",
       "      <td>Croatia</td>\n",
       "      <td>Portugal</td>\n",
       "      <td>Match 60</td>\n",
       "      <td>2022</td>\n",
       "      <td>?</td>\n",
       "    </tr>\n",
       "    <tr>\n",
       "      <th>59</th>\n",
       "      <td>59</td>\n",
       "      <td>England</td>\n",
       "      <td>France</td>\n",
       "      <td>Match 59</td>\n",
       "      <td>2022</td>\n",
       "      <td>?</td>\n",
       "    </tr>\n",
       "  </tbody>\n",
       "</table>\n",
       "</div>"
      ],
      "text/plain": [
       "    Unnamed: 0         home       away     score  year winner\n",
       "56          56      Germany     Brazil  Match 58  2022      ?\n",
       "57          57  Netherlands  Argentina  Match 57  2022      ?\n",
       "58          58      Croatia   Portugal  Match 60  2022      ?\n",
       "59          59      England     France  Match 59  2022      ?"
      ]
     },
     "execution_count": 188,
     "metadata": {},
     "output_type": "execute_result"
    }
   ],
   "source": [
    "update_table(df_fixture_ro16,df_fixture_quarters)"
   ]
  },
  {
   "cell_type": "code",
   "execution_count": 189,
   "id": "ed32a645-3a58-4bdf-afdb-b6c247b8b49f",
   "metadata": {},
   "outputs": [
    {
     "data": {
      "text/html": [
       "<div>\n",
       "<style scoped>\n",
       "    .dataframe tbody tr th:only-of-type {\n",
       "        vertical-align: middle;\n",
       "    }\n",
       "\n",
       "    .dataframe tbody tr th {\n",
       "        vertical-align: top;\n",
       "    }\n",
       "\n",
       "    .dataframe thead th {\n",
       "        text-align: right;\n",
       "    }\n",
       "</style>\n",
       "<table border=\"1\" class=\"dataframe\">\n",
       "  <thead>\n",
       "    <tr style=\"text-align: right;\">\n",
       "      <th></th>\n",
       "      <th>Unnamed: 0</th>\n",
       "      <th>home</th>\n",
       "      <th>away</th>\n",
       "      <th>score</th>\n",
       "      <th>year</th>\n",
       "      <th>winner</th>\n",
       "    </tr>\n",
       "  </thead>\n",
       "  <tbody>\n",
       "    <tr>\n",
       "      <th>56</th>\n",
       "      <td>56</td>\n",
       "      <td>Germany</td>\n",
       "      <td>Brazil</td>\n",
       "      <td>Match 58</td>\n",
       "      <td>2022</td>\n",
       "      <td>Brazil</td>\n",
       "    </tr>\n",
       "    <tr>\n",
       "      <th>57</th>\n",
       "      <td>57</td>\n",
       "      <td>Netherlands</td>\n",
       "      <td>Argentina</td>\n",
       "      <td>Match 57</td>\n",
       "      <td>2022</td>\n",
       "      <td>Netherlands</td>\n",
       "    </tr>\n",
       "    <tr>\n",
       "      <th>58</th>\n",
       "      <td>58</td>\n",
       "      <td>Croatia</td>\n",
       "      <td>Portugal</td>\n",
       "      <td>Match 60</td>\n",
       "      <td>2022</td>\n",
       "      <td>Portugal</td>\n",
       "    </tr>\n",
       "    <tr>\n",
       "      <th>59</th>\n",
       "      <td>59</td>\n",
       "      <td>England</td>\n",
       "      <td>France</td>\n",
       "      <td>Match 59</td>\n",
       "      <td>2022</td>\n",
       "      <td>France</td>\n",
       "    </tr>\n",
       "  </tbody>\n",
       "</table>\n",
       "</div>"
      ],
      "text/plain": [
       "    Unnamed: 0         home       away     score  year       winner\n",
       "56          56      Germany     Brazil  Match 58  2022       Brazil\n",
       "57          57  Netherlands  Argentina  Match 57  2022  Netherlands\n",
       "58          58      Croatia   Portugal  Match 60  2022     Portugal\n",
       "59          59      England     France  Match 59  2022       France"
      ]
     },
     "execution_count": 189,
     "metadata": {},
     "output_type": "execute_result"
    }
   ],
   "source": [
    "get_winner(df_fixture_quarters)"
   ]
  },
  {
   "cell_type": "markdown",
   "id": "2d312931-3d1d-4fc9-8fa6-051a069522ed",
   "metadata": {},
   "source": [
    "## Knock-outs: Semi Finals"
   ]
  },
  {
   "cell_type": "code",
   "execution_count": 190,
   "id": "830c4001-3b2d-40a1-9fce-8e5a719b82af",
   "metadata": {},
   "outputs": [
    {
     "data": {
      "text/html": [
       "<div>\n",
       "<style scoped>\n",
       "    .dataframe tbody tr th:only-of-type {\n",
       "        vertical-align: middle;\n",
       "    }\n",
       "\n",
       "    .dataframe tbody tr th {\n",
       "        vertical-align: top;\n",
       "    }\n",
       "\n",
       "    .dataframe thead th {\n",
       "        text-align: right;\n",
       "    }\n",
       "</style>\n",
       "<table border=\"1\" class=\"dataframe\">\n",
       "  <thead>\n",
       "    <tr style=\"text-align: right;\">\n",
       "      <th></th>\n",
       "      <th>Unnamed: 0</th>\n",
       "      <th>home</th>\n",
       "      <th>away</th>\n",
       "      <th>score</th>\n",
       "      <th>year</th>\n",
       "      <th>winner</th>\n",
       "    </tr>\n",
       "  </thead>\n",
       "  <tbody>\n",
       "    <tr>\n",
       "      <th>60</th>\n",
       "      <td>60</td>\n",
       "      <td>Netherlands</td>\n",
       "      <td>Brazil</td>\n",
       "      <td>Match 61</td>\n",
       "      <td>2022</td>\n",
       "      <td>?</td>\n",
       "    </tr>\n",
       "    <tr>\n",
       "      <th>61</th>\n",
       "      <td>61</td>\n",
       "      <td>France</td>\n",
       "      <td>Portugal</td>\n",
       "      <td>Match 62</td>\n",
       "      <td>2022</td>\n",
       "      <td>?</td>\n",
       "    </tr>\n",
       "  </tbody>\n",
       "</table>\n",
       "</div>"
      ],
      "text/plain": [
       "    Unnamed: 0         home      away     score  year winner\n",
       "60          60  Netherlands    Brazil  Match 61  2022      ?\n",
       "61          61       France  Portugal  Match 62  2022      ?"
      ]
     },
     "execution_count": 190,
     "metadata": {},
     "output_type": "execute_result"
    }
   ],
   "source": [
    "update_table(df_fixture_quarters,df_fixture_semis)"
   ]
  },
  {
   "cell_type": "code",
   "execution_count": 191,
   "id": "3d658f30-e8d7-4bd2-b4b6-5f25a283ec69",
   "metadata": {},
   "outputs": [
    {
     "data": {
      "text/html": [
       "<div>\n",
       "<style scoped>\n",
       "    .dataframe tbody tr th:only-of-type {\n",
       "        vertical-align: middle;\n",
       "    }\n",
       "\n",
       "    .dataframe tbody tr th {\n",
       "        vertical-align: top;\n",
       "    }\n",
       "\n",
       "    .dataframe thead th {\n",
       "        text-align: right;\n",
       "    }\n",
       "</style>\n",
       "<table border=\"1\" class=\"dataframe\">\n",
       "  <thead>\n",
       "    <tr style=\"text-align: right;\">\n",
       "      <th></th>\n",
       "      <th>Unnamed: 0</th>\n",
       "      <th>home</th>\n",
       "      <th>away</th>\n",
       "      <th>score</th>\n",
       "      <th>year</th>\n",
       "      <th>winner</th>\n",
       "    </tr>\n",
       "  </thead>\n",
       "  <tbody>\n",
       "    <tr>\n",
       "      <th>60</th>\n",
       "      <td>60</td>\n",
       "      <td>Netherlands</td>\n",
       "      <td>Brazil</td>\n",
       "      <td>Match 61</td>\n",
       "      <td>2022</td>\n",
       "      <td>Brazil</td>\n",
       "    </tr>\n",
       "    <tr>\n",
       "      <th>61</th>\n",
       "      <td>61</td>\n",
       "      <td>France</td>\n",
       "      <td>Portugal</td>\n",
       "      <td>Match 62</td>\n",
       "      <td>2022</td>\n",
       "      <td>France</td>\n",
       "    </tr>\n",
       "  </tbody>\n",
       "</table>\n",
       "</div>"
      ],
      "text/plain": [
       "    Unnamed: 0         home      away     score  year  winner\n",
       "60          60  Netherlands    Brazil  Match 61  2022  Brazil\n",
       "61          61       France  Portugal  Match 62  2022  France"
      ]
     },
     "execution_count": 191,
     "metadata": {},
     "output_type": "execute_result"
    }
   ],
   "source": [
    "get_winner(df_fixture_semis)"
   ]
  },
  {
   "cell_type": "markdown",
   "id": "8184df99-9938-4510-b525-c622f1fab3dd",
   "metadata": {},
   "source": [
    "## Knock-outs: Final"
   ]
  },
  {
   "cell_type": "code",
   "execution_count": 192,
   "id": "55ab9b2c-f6ff-47c1-b437-6d2c54fe2e11",
   "metadata": {},
   "outputs": [
    {
     "data": {
      "text/html": [
       "<div>\n",
       "<style scoped>\n",
       "    .dataframe tbody tr th:only-of-type {\n",
       "        vertical-align: middle;\n",
       "    }\n",
       "\n",
       "    .dataframe tbody tr th {\n",
       "        vertical-align: top;\n",
       "    }\n",
       "\n",
       "    .dataframe thead th {\n",
       "        text-align: right;\n",
       "    }\n",
       "</style>\n",
       "<table border=\"1\" class=\"dataframe\">\n",
       "  <thead>\n",
       "    <tr style=\"text-align: right;\">\n",
       "      <th></th>\n",
       "      <th>Unnamed: 0</th>\n",
       "      <th>home</th>\n",
       "      <th>away</th>\n",
       "      <th>score</th>\n",
       "      <th>year</th>\n",
       "      <th>winner</th>\n",
       "    </tr>\n",
       "  </thead>\n",
       "  <tbody>\n",
       "    <tr>\n",
       "      <th>63</th>\n",
       "      <td>63</td>\n",
       "      <td>Brazil</td>\n",
       "      <td>France</td>\n",
       "      <td>Match 64</td>\n",
       "      <td>2022</td>\n",
       "      <td>?</td>\n",
       "    </tr>\n",
       "  </tbody>\n",
       "</table>\n",
       "</div>"
      ],
      "text/plain": [
       "    Unnamed: 0    home    away     score  year winner\n",
       "63          63  Brazil  France  Match 64  2022      ?"
      ]
     },
     "execution_count": 192,
     "metadata": {},
     "output_type": "execute_result"
    }
   ],
   "source": [
    "update_table(df_fixture_semis,df_fixture_final)"
   ]
  },
  {
   "cell_type": "code",
   "execution_count": 193,
   "id": "5e54cbba-3bae-47dd-8e7b-ccb71894dd94",
   "metadata": {},
   "outputs": [
    {
     "data": {
      "text/html": [
       "<div>\n",
       "<style scoped>\n",
       "    .dataframe tbody tr th:only-of-type {\n",
       "        vertical-align: middle;\n",
       "    }\n",
       "\n",
       "    .dataframe tbody tr th {\n",
       "        vertical-align: top;\n",
       "    }\n",
       "\n",
       "    .dataframe thead th {\n",
       "        text-align: right;\n",
       "    }\n",
       "</style>\n",
       "<table border=\"1\" class=\"dataframe\">\n",
       "  <thead>\n",
       "    <tr style=\"text-align: right;\">\n",
       "      <th></th>\n",
       "      <th>Unnamed: 0</th>\n",
       "      <th>home</th>\n",
       "      <th>away</th>\n",
       "      <th>score</th>\n",
       "      <th>year</th>\n",
       "      <th>winner</th>\n",
       "    </tr>\n",
       "  </thead>\n",
       "  <tbody>\n",
       "    <tr>\n",
       "      <th>63</th>\n",
       "      <td>63</td>\n",
       "      <td>Brazil</td>\n",
       "      <td>France</td>\n",
       "      <td>Match 64</td>\n",
       "      <td>2022</td>\n",
       "      <td>Brazil</td>\n",
       "    </tr>\n",
       "  </tbody>\n",
       "</table>\n",
       "</div>"
      ],
      "text/plain": [
       "    Unnamed: 0    home    away     score  year  winner\n",
       "63          63  Brazil  France  Match 64  2022  Brazil"
      ]
     },
     "execution_count": 193,
     "metadata": {},
     "output_type": "execute_result"
    }
   ],
   "source": [
    "get_winner(df_fixture_final)"
   ]
  },
  {
   "cell_type": "code",
   "execution_count": null,
   "id": "efaef2cd-3135-4fd7-af50-66a364c9b58b",
   "metadata": {},
   "outputs": [],
   "source": []
  }
 ],
 "metadata": {
  "kernelspec": {
   "display_name": "Python 3 (ipykernel)",
   "language": "python",
   "name": "python3"
  },
  "language_info": {
   "codemirror_mode": {
    "name": "ipython",
    "version": 3
   },
   "file_extension": ".py",
   "mimetype": "text/x-python",
   "name": "python",
   "nbconvert_exporter": "python",
   "pygments_lexer": "ipython3",
   "version": "3.11.9"
  }
 },
 "nbformat": 4,
 "nbformat_minor": 5
}
